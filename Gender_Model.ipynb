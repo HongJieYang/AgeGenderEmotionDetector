{
  "cells": [
    {
      "cell_type": "markdown",
      "metadata": {
        "id": "view-in-github",
        "colab_type": "text"
      },
      "source": [
        "<a href=\"https://colab.research.google.com/github/HongJieYang/Age-Gender-Emotion-Detector/blob/main/Gender_Model.ipynb\" target=\"_parent\"><img src=\"https://colab.research.google.com/assets/colab-badge.svg\" alt=\"Open In Colab\"/></a>"
      ]
    },
    {
      "cell_type": "code",
      "execution_count": null,
      "metadata": {
        "id": "hi1T7DcKZ1J-"
      },
      "outputs": [],
      "source": [
        "# VGGFace based on vgg16 architecture\n",
        "from IPython.display import clear_output\n",
        "!pip install keras_vggface\n",
        "clear_output()"
      ]
    },
    {
      "cell_type": "code",
      "execution_count": null,
      "metadata": {
        "id": "9YSncrktcwL_"
      },
      "outputs": [],
      "source": [
        "# Required for VGGFace\n",
        "!pip install keras_applications\n",
        "clear_output()"
      ]
    },
    {
      "cell_type": "code",
      "execution_count": null,
      "metadata": {
        "colab": {
          "base_uri": "https://localhost:8080/"
        },
        "id": "witfyPGF46ZM",
        "outputId": "90bf67d5-7543-48e2-84a7-d9badd302931"
      },
      "outputs": [
        {
          "output_type": "stream",
          "name": "stdout",
          "text": [
            "Mounted at /content/drive\n"
          ]
        }
      ],
      "source": [
        "# Set up directory\n",
        "import os\n",
        "from google.colab import drive\n",
        "drive.mount(\"/content/drive\", force_remount=True)\n",
        "os.chdir('/content')"
      ]
    },
    {
      "cell_type": "code",
      "execution_count": null,
      "metadata": {
        "id": "CMR7g30c5IZV"
      },
      "outputs": [],
      "source": [
        "# Create local copy \n",
        "!cp \"/content/drive/MyDrive/test/faces.zip\" .\n",
        "!unzip -q \"/content/faces.zip\""
      ]
    },
    {
      "cell_type": "code",
      "execution_count": null,
      "metadata": {
        "id": "vHAKU5dK5OOV"
      },
      "outputs": [],
      "source": [
        "import numpy as np\n",
        "import pandas as pd\n",
        "import matplotlib.pyplot as plt\n",
        "import seaborn as sns\n",
        "import cv2\n",
        "import tensorflow as tf\n",
        "from PIL import Image"
      ]
    },
    {
      "cell_type": "markdown",
      "source": [
        "## **Load and Organize the Images Based on Gender**"
      ],
      "metadata": {
        "id": "kNTl4MPiO1rw"
      }
    },
    {
      "cell_type": "code",
      "execution_count": null,
      "metadata": {
        "id": "aOfgezA_5bzk"
      },
      "outputs": [],
      "source": [
        "# load data (Downloaded from https://talhassner.github.io/home/projects/Adience/Adience-data.html)\n",
        "# Need fold_0_data.txt to fold_4_data.txt, and faces.zip\n",
        "os.chdir('/content/drive/MyDrive/data')\n",
        "fold_0 = pd.read_csv(\"fold_0_data.txt\",sep = \"\\t\" )\n",
        "fold_1 = pd.read_csv(\"fold_1_data.txt\",sep = \"\\t\")\n",
        "fold_2 = pd.read_csv(\"fold_2_data.txt\",sep = \"\\t\")\n",
        "fold_3 = pd.read_csv(\"fold_3_data.txt\",sep = \"\\t\")\n",
        "fold_4 = pd.read_csv(\"fold_4_data.txt\",sep = \"\\t\")"
      ]
    },
    {
      "cell_type": "code",
      "execution_count": null,
      "metadata": {
        "colab": {
          "base_uri": "https://localhost:8080/",
          "height": 553
        },
        "id": "0jcspl4r5rQd",
        "outputId": "c3748ceb-83d1-4095-ce91-ab4bcf36ca7c"
      },
      "outputs": [
        {
          "output_type": "stream",
          "name": "stdout",
          "text": [
            "(19370, 12)\n",
            "<class 'pandas.core.frame.DataFrame'>\n",
            "RangeIndex: 19370 entries, 0 to 19369\n",
            "Data columns (total 12 columns):\n",
            " #   Column              Non-Null Count  Dtype \n",
            "---  ------              --------------  ----- \n",
            " 0   user_id             19370 non-null  object\n",
            " 1   original_image      19370 non-null  object\n",
            " 2   face_id             19370 non-null  int64 \n",
            " 3   age                 19370 non-null  object\n",
            " 4   gender              18591 non-null  object\n",
            " 5   x                   19370 non-null  int64 \n",
            " 6   y                   19370 non-null  int64 \n",
            " 7   dx                  19370 non-null  int64 \n",
            " 8   dy                  19370 non-null  int64 \n",
            " 9   tilt_ang            19370 non-null  int64 \n",
            " 10  fiducial_yaw_angle  19370 non-null  int64 \n",
            " 11  fiducial_score      19370 non-null  int64 \n",
            "dtypes: int64(8), object(4)\n",
            "memory usage: 1.8+ MB\n"
          ]
        },
        {
          "output_type": "execute_result",
          "data": {
            "text/html": [
              "\n",
              "  <div id=\"df-82d52695-3c58-4842-ae02-22c2a97002a4\">\n",
              "    <div class=\"colab-df-container\">\n",
              "      <div>\n",
              "<style scoped>\n",
              "    .dataframe tbody tr th:only-of-type {\n",
              "        vertical-align: middle;\n",
              "    }\n",
              "\n",
              "    .dataframe tbody tr th {\n",
              "        vertical-align: top;\n",
              "    }\n",
              "\n",
              "    .dataframe thead th {\n",
              "        text-align: right;\n",
              "    }\n",
              "</style>\n",
              "<table border=\"1\" class=\"dataframe\">\n",
              "  <thead>\n",
              "    <tr style=\"text-align: right;\">\n",
              "      <th></th>\n",
              "      <th>user_id</th>\n",
              "      <th>original_image</th>\n",
              "      <th>face_id</th>\n",
              "      <th>age</th>\n",
              "      <th>gender</th>\n",
              "      <th>x</th>\n",
              "      <th>y</th>\n",
              "      <th>dx</th>\n",
              "      <th>dy</th>\n",
              "      <th>tilt_ang</th>\n",
              "      <th>fiducial_yaw_angle</th>\n",
              "      <th>fiducial_score</th>\n",
              "    </tr>\n",
              "  </thead>\n",
              "  <tbody>\n",
              "    <tr>\n",
              "      <th>0</th>\n",
              "      <td>30601258@N03</td>\n",
              "      <td>10399646885_67c7d20df9_o.jpg</td>\n",
              "      <td>1</td>\n",
              "      <td>(25, 32)</td>\n",
              "      <td>f</td>\n",
              "      <td>0</td>\n",
              "      <td>414</td>\n",
              "      <td>1086</td>\n",
              "      <td>1383</td>\n",
              "      <td>-115</td>\n",
              "      <td>30</td>\n",
              "      <td>17</td>\n",
              "    </tr>\n",
              "    <tr>\n",
              "      <th>1</th>\n",
              "      <td>30601258@N03</td>\n",
              "      <td>10424815813_e94629b1ec_o.jpg</td>\n",
              "      <td>2</td>\n",
              "      <td>(25, 32)</td>\n",
              "      <td>m</td>\n",
              "      <td>301</td>\n",
              "      <td>105</td>\n",
              "      <td>640</td>\n",
              "      <td>641</td>\n",
              "      <td>0</td>\n",
              "      <td>0</td>\n",
              "      <td>94</td>\n",
              "    </tr>\n",
              "    <tr>\n",
              "      <th>2</th>\n",
              "      <td>30601258@N03</td>\n",
              "      <td>10437979845_5985be4b26_o.jpg</td>\n",
              "      <td>1</td>\n",
              "      <td>(25, 32)</td>\n",
              "      <td>f</td>\n",
              "      <td>2395</td>\n",
              "      <td>876</td>\n",
              "      <td>771</td>\n",
              "      <td>771</td>\n",
              "      <td>175</td>\n",
              "      <td>-30</td>\n",
              "      <td>74</td>\n",
              "    </tr>\n",
              "    <tr>\n",
              "      <th>3</th>\n",
              "      <td>30601258@N03</td>\n",
              "      <td>10437979845_5985be4b26_o.jpg</td>\n",
              "      <td>3</td>\n",
              "      <td>(25, 32)</td>\n",
              "      <td>m</td>\n",
              "      <td>752</td>\n",
              "      <td>1255</td>\n",
              "      <td>484</td>\n",
              "      <td>485</td>\n",
              "      <td>180</td>\n",
              "      <td>0</td>\n",
              "      <td>47</td>\n",
              "    </tr>\n",
              "    <tr>\n",
              "      <th>4</th>\n",
              "      <td>30601258@N03</td>\n",
              "      <td>11816644924_075c3d8d59_o.jpg</td>\n",
              "      <td>2</td>\n",
              "      <td>(25, 32)</td>\n",
              "      <td>m</td>\n",
              "      <td>175</td>\n",
              "      <td>80</td>\n",
              "      <td>769</td>\n",
              "      <td>768</td>\n",
              "      <td>-75</td>\n",
              "      <td>0</td>\n",
              "      <td>34</td>\n",
              "    </tr>\n",
              "  </tbody>\n",
              "</table>\n",
              "</div>\n",
              "      <button class=\"colab-df-convert\" onclick=\"convertToInteractive('df-82d52695-3c58-4842-ae02-22c2a97002a4')\"\n",
              "              title=\"Convert this dataframe to an interactive table.\"\n",
              "              style=\"display:none;\">\n",
              "        \n",
              "  <svg xmlns=\"http://www.w3.org/2000/svg\" height=\"24px\"viewBox=\"0 0 24 24\"\n",
              "       width=\"24px\">\n",
              "    <path d=\"M0 0h24v24H0V0z\" fill=\"none\"/>\n",
              "    <path d=\"M18.56 5.44l.94 2.06.94-2.06 2.06-.94-2.06-.94-.94-2.06-.94 2.06-2.06.94zm-11 1L8.5 8.5l.94-2.06 2.06-.94-2.06-.94L8.5 2.5l-.94 2.06-2.06.94zm10 10l.94 2.06.94-2.06 2.06-.94-2.06-.94-.94-2.06-.94 2.06-2.06.94z\"/><path d=\"M17.41 7.96l-1.37-1.37c-.4-.4-.92-.59-1.43-.59-.52 0-1.04.2-1.43.59L10.3 9.45l-7.72 7.72c-.78.78-.78 2.05 0 2.83L4 21.41c.39.39.9.59 1.41.59.51 0 1.02-.2 1.41-.59l7.78-7.78 2.81-2.81c.8-.78.8-2.07 0-2.86zM5.41 20L4 18.59l7.72-7.72 1.47 1.35L5.41 20z\"/>\n",
              "  </svg>\n",
              "      </button>\n",
              "      \n",
              "  <style>\n",
              "    .colab-df-container {\n",
              "      display:flex;\n",
              "      flex-wrap:wrap;\n",
              "      gap: 12px;\n",
              "    }\n",
              "\n",
              "    .colab-df-convert {\n",
              "      background-color: #E8F0FE;\n",
              "      border: none;\n",
              "      border-radius: 50%;\n",
              "      cursor: pointer;\n",
              "      display: none;\n",
              "      fill: #1967D2;\n",
              "      height: 32px;\n",
              "      padding: 0 0 0 0;\n",
              "      width: 32px;\n",
              "    }\n",
              "\n",
              "    .colab-df-convert:hover {\n",
              "      background-color: #E2EBFA;\n",
              "      box-shadow: 0px 1px 2px rgba(60, 64, 67, 0.3), 0px 1px 3px 1px rgba(60, 64, 67, 0.15);\n",
              "      fill: #174EA6;\n",
              "    }\n",
              "\n",
              "    [theme=dark] .colab-df-convert {\n",
              "      background-color: #3B4455;\n",
              "      fill: #D2E3FC;\n",
              "    }\n",
              "\n",
              "    [theme=dark] .colab-df-convert:hover {\n",
              "      background-color: #434B5C;\n",
              "      box-shadow: 0px 1px 3px 1px rgba(0, 0, 0, 0.15);\n",
              "      filter: drop-shadow(0px 1px 2px rgba(0, 0, 0, 0.3));\n",
              "      fill: #FFFFFF;\n",
              "    }\n",
              "  </style>\n",
              "\n",
              "      <script>\n",
              "        const buttonEl =\n",
              "          document.querySelector('#df-82d52695-3c58-4842-ae02-22c2a97002a4 button.colab-df-convert');\n",
              "        buttonEl.style.display =\n",
              "          google.colab.kernel.accessAllowed ? 'block' : 'none';\n",
              "\n",
              "        async function convertToInteractive(key) {\n",
              "          const element = document.querySelector('#df-82d52695-3c58-4842-ae02-22c2a97002a4');\n",
              "          const dataTable =\n",
              "            await google.colab.kernel.invokeFunction('convertToInteractive',\n",
              "                                                     [key], {});\n",
              "          if (!dataTable) return;\n",
              "\n",
              "          const docLinkHtml = 'Like what you see? Visit the ' +\n",
              "            '<a target=\"_blank\" href=https://colab.research.google.com/notebooks/data_table.ipynb>data table notebook</a>'\n",
              "            + ' to learn more about interactive tables.';\n",
              "          element.innerHTML = '';\n",
              "          dataTable['output_type'] = 'display_data';\n",
              "          await google.colab.output.renderOutput(dataTable, element);\n",
              "          const docLink = document.createElement('div');\n",
              "          docLink.innerHTML = docLinkHtml;\n",
              "          element.appendChild(docLink);\n",
              "        }\n",
              "      </script>\n",
              "    </div>\n",
              "  </div>\n",
              "  "
            ],
            "text/plain": [
              "        user_id  ... fiducial_score\n",
              "0  30601258@N03  ...             17\n",
              "1  30601258@N03  ...             94\n",
              "2  30601258@N03  ...             74\n",
              "3  30601258@N03  ...             47\n",
              "4  30601258@N03  ...             34\n",
              "\n",
              "[5 rows x 12 columns]"
            ]
          },
          "metadata": {},
          "execution_count": 7
        }
      ],
      "source": [
        "# Combined data_set\n",
        "total_data = pd.concat([fold_0, fold_1, fold_2, fold_3, fold_4], ignore_index=True)\n",
        "print(total_data.shape)\n",
        "total_data.info()\n",
        "total_data.head()"
      ]
    },
    {
      "cell_type": "code",
      "execution_count": null,
      "metadata": {
        "colab": {
          "base_uri": "https://localhost:8080/"
        },
        "id": "QDeRHN_3QIO5",
        "outputId": "47aea3eb-a2de-4428-af7f-ce78e6bc335d"
      },
      "outputs": [
        {
          "output_type": "stream",
          "name": "stdout",
          "text": [
            "f    9332\n",
            "m    8120\n",
            "u    1099\n",
            "Name: gender, dtype: int64\n"
          ]
        }
      ],
      "source": [
        "# Remove pictures with missing data\n",
        "df = total_data.replace('None', np.nan).dropna()\n",
        "print(df['gender'].value_counts())"
      ]
    },
    {
      "cell_type": "code",
      "execution_count": null,
      "metadata": {
        "colab": {
          "base_uri": "https://localhost:8080/"
        },
        "id": "nhf2O5GezNTd",
        "outputId": "a2a7fd6c-1e3c-4d73-ccf2-4d02d1fe3076"
      },
      "outputs": [
        {
          "output_type": "stream",
          "name": "stdout",
          "text": [
            "f    9332\n",
            "m    8120\n",
            "Name: gender, dtype: int64\n"
          ]
        }
      ],
      "source": [
        "# Remove pictures with undefined data\n",
        "df = df.drop(df[df.gender == 'u'].index)\n",
        "print(df['gender'].value_counts())"
      ]
    },
    {
      "cell_type": "markdown",
      "source": [
        "## **Prepare Pictures for Data Loader Based on Gender**"
      ],
      "metadata": {
        "id": "PcW_D0cGaROX"
      }
    },
    {
      "cell_type": "code",
      "execution_count": null,
      "metadata": {
        "id": "nviXancJGEjW"
      },
      "outputs": [],
      "source": [
        "import shutil\n",
        "folder_path = \"/content/faces/faces\""
      ]
    },
    {
      "cell_type": "code",
      "execution_count": null,
      "metadata": {
        "colab": {
          "base_uri": "https://localhost:8080/"
        },
        "id": "W_kMyHfqGTQm",
        "outputId": "ffc77d62-265a-4667-b34a-703a932f1832"
      },
      "outputs": [
        {
          "output_type": "stream",
          "name": "stdout",
          "text": [
            "19370\n",
            "('/content/faces/faces/37303189@N08/coarse_tilt_aligned_face.84.10384336703_e439941d25_o.jpg', 'coarse_tilt_aligned_face.84.10384336703_e439941d25_o.jpg')\n"
          ]
        }
      ],
      "source": [
        "# Generate list of picture paths\n",
        "file_list = []\n",
        "formats = [\"jpg\", \"png\"]\n",
        "\n",
        "for subdir in os.listdir(folder_path):\n",
        "    subpath = os.path.join(folder_path, subdir)\n",
        "\n",
        "    if os.path.isdir(subpath):\n",
        "\n",
        "        for f in os.listdir(subpath):\n",
        "      \n",
        "            filepath = os.path.join(subpath, f)\n",
        "            part = f.split(\".\")\n",
        "      \n",
        "            if os.path.isfile(filepath) and part[-1] in formats: # Is jpg or png\n",
        "                file_list.append((filepath, f))\n",
        "\n",
        "print(len(file_list))\n",
        "print(file_list[0])"
      ]
    },
    {
      "cell_type": "code",
      "execution_count": null,
      "metadata": {
        "colab": {
          "base_uri": "https://localhost:8080/"
        },
        "id": "-sxZkzwC0iKL",
        "outputId": "f7e3c8bc-ea9e-4016-d9c3-e2529a39ce47"
      },
      "outputs": [
        {
          "output_type": "stream",
          "name": "stdout",
          "text": [
            "/content/faces/faces/37303189@N08/coarse_tilt_aligned_face.84.10384336703_e439941d25_o.jpg\n",
            "coarse_tilt_aligned_face.84.10384336703_e439941d25_o.jpg\n",
            "['coarse_tilt_aligned_face', '84', '10384336703_e439941d25_o', 'jpg']\n",
            "37303189@N08\n",
            "10384336703_e439941d25_o.jpg\n",
            "84\n",
            "m\n",
            "/content/faces/faces/m\n"
          ]
        }
      ],
      "source": [
        "(filepath, filename) = file_list[0]\n",
        "\n",
        "# get the identifiers\n",
        "parts = filename.split(\".\")\n",
        "user_id = filepath.split(\"/\")[-2]\n",
        "file_id = parts[-2] + \".\" + parts[-1]\n",
        "face_id = int(parts[-3])\n",
        "\n",
        "print(filepath)\n",
        "print(filename)\n",
        "print(parts)\n",
        "print(user_id)\n",
        "print(file_id)\n",
        "print(face_id)\n",
        "\n",
        "# Get the class value from the gender column\n",
        "class_ = df[\n",
        "  (df[\"user_id\"] == user_id) & \n",
        "  (df[\"original_image\"] == file_id) & \n",
        "  (df[\"face_id\"] == face_id)\n",
        "][\"gender\"].values[0]\n",
        "\n",
        "new_path = os.path.join(folder_path, class_)\n",
        "\n",
        "print(class_)\n",
        "print(new_path)"
      ]
    },
    {
      "cell_type": "code",
      "execution_count": null,
      "metadata": {
        "colab": {
          "base_uri": "https://localhost:8080/"
        },
        "id": "hRTHtaGzW1UP",
        "outputId": "9b4e6309-cd9e-4dab-81d3-ea5ab7b3d678"
      },
      "outputs": [
        {
          "output_type": "stream",
          "name": "stdout",
          "text": [
            "[====================]"
          ]
        }
      ],
      "source": [
        "# Sort pictures into different folders based on it's class label\n",
        "im_len = len(file_list)\n",
        "for i, (filepath, filename) in enumerate(file_list):\n",
        "\n",
        "    # get the identifiers\n",
        "    parts = filename.split(\".\")\n",
        "    user_id = filepath.split(\"/\")[-2]\n",
        "    file_id = parts[-2] + \".\" + parts[-1]\n",
        "    face_id = int(parts[-3])\n",
        "\n",
        "    try:\n",
        "\n",
        "      # find class\n",
        "      class_ = df[\n",
        "        (df[\"user_id\"] == user_id) & \n",
        "        (df[\"original_image\"] == file_id) & \n",
        "        (df[\"face_id\"] == face_id)\n",
        "      ][\"gender\"].values[0]\n",
        "\n",
        "      new_path = os.path.join(folder_path, class_)\n",
        "\n",
        "      # Make a new directory if it doesn't already exist      \n",
        "      if not os.path.exists(new_path):\n",
        "          os.makedirs(new_path)\n",
        "\n",
        "      # move file\n",
        "      new_path = os.path.join(new_path, filename)\n",
        "      shutil.move(filepath, new_path)\n",
        "    \n",
        "    except:\n",
        "      pass\n",
        "\n",
        "    # progress\n",
        "    prog = (20 * (i + 1)) // im_len\n",
        "    print(\"\\r[\" + \"=\"*prog + \"_\"*(20-prog) + \"]\", end=\"\")\\"
      ]
    },
    {
      "cell_type": "code",
      "execution_count": null,
      "metadata": {
        "id": "SBJAmz2_XGgX"
      },
      "outputs": [],
      "source": [
        "# delete unwanted files or empty folders\n",
        "for subdir in os.listdir(folder_path):\n",
        "    subpath = os.path.join(folder_path, subdir)\n",
        "\n",
        "    if os.path.isdir(subpath):\n",
        "\n",
        "        if subdir[0] != \"f\" and subdir[0] != \"m\":\n",
        "            shutil.rmtree(subpath)\n",
        "            \n",
        "    elif os.path.isfile(subpath):\n",
        "        os.remove(subdir)"
      ]
    },
    {
      "cell_type": "code",
      "execution_count": null,
      "metadata": {
        "id": "O0BS-B9SnXep"
      },
      "outputs": [],
      "source": [
        "import keras\n",
        "from keras.applications.vgg16 import VGG16"
      ]
    },
    {
      "cell_type": "markdown",
      "source": [
        "## **Split Up Folders into Training, Validation, and Testing Datasets**"
      ],
      "metadata": {
        "id": "wY1gxuaRafa8"
      }
    },
    {
      "cell_type": "code",
      "execution_count": null,
      "metadata": {
        "id": "_9u32-RmkLTF"
      },
      "outputs": [],
      "source": [
        "!pip install split-folders\n",
        "clear_output()"
      ]
    },
    {
      "cell_type": "code",
      "execution_count": null,
      "metadata": {
        "colab": {
          "base_uri": "https://localhost:8080/"
        },
        "id": "cKKlfWFakkY2",
        "outputId": "b1d28b1e-3571-4b80-b63c-d57439dd6d0c"
      },
      "outputs": [
        {
          "output_type": "stream",
          "name": "stderr",
          "text": [
            "Copying files: 17452 files [00:08, 1971.57 files/s]\n"
          ]
        }
      ],
      "source": [
        "import splitfolders\n",
        "splitfolders.ratio(\"/content/faces/faces\", output=\"/content/output\", seed=1337, ratio=(.8, .1, .1), group_prefix=None)"
      ]
    },
    {
      "cell_type": "code",
      "execution_count": null,
      "metadata": {
        "id": "QPJ33_W2rRkL"
      },
      "outputs": [],
      "source": [
        "from tensorflow.keras.layers import Input, Lambda, Dense, Flatten, Dropout\n",
        "from tensorflow.keras.models import Model\n",
        "from tensorflow.keras.applications.vgg16 import VGG16\n",
        "from tensorflow.keras.applications.vgg19 import VGG19\n",
        "from tensorflow.keras.preprocessing import image\n",
        "from tensorflow.keras.preprocessing.image import ImageDataGenerator,load_img\n",
        "from tensorflow.keras.models import Sequential\n",
        "import numpy as np\n",
        "from glob import glob"
      ]
    },
    {
      "cell_type": "code",
      "execution_count": null,
      "metadata": {
        "id": "JkEJ07Homr6_"
      },
      "outputs": [],
      "source": [
        "IMAGE_SIZE = [224, 224]\n",
        "\n",
        "train_path = \"/content/output/train\"\n",
        "valid_path = \"/content/output/val\"\n",
        "test_path  = \"/content/output/test\""
      ]
    },
    {
      "cell_type": "markdown",
      "source": [
        "## **Train the Model Based on VGGFace Architecture**"
      ],
      "metadata": {
        "id": "Xruxpo4La4eA"
      }
    },
    {
      "cell_type": "code",
      "execution_count": null,
      "metadata": {
        "colab": {
          "base_uri": "https://localhost:8080/"
        },
        "id": "zXGMe6zDNnKI",
        "outputId": "f6360ead-9b09-4fe5-e7bc-0c8783ae3c90"
      },
      "outputs": [
        {
          "output_type": "stream",
          "name": "stdout",
          "text": [
            "Downloading data from https://github.com/rcmalli/keras-vggface/releases/download/v2.0/rcmalli_vggface_tf_notop_vgg16.h5\n",
            "58916864/58909280 [==============================] - 2s 0us/step\n",
            "58925056/58909280 [==============================] - 2s 0us/step\n"
          ]
        }
      ],
      "source": [
        "# Need to replace 'from keras.engine.topology import get_source_inputs with' \n",
        "# 'from tensorflow.keras.utils import get_source_inputs' in models.py\n",
        "from keras_vggface.vggface import VGGFace\n",
        "\n",
        "vgg_features = VGGFace(include_top=False, input_shape=(224, 224, 3), pooling='avg')"
      ]
    },
    {
      "cell_type": "code",
      "execution_count": null,
      "metadata": {
        "colab": {
          "base_uri": "https://localhost:8080/"
        },
        "id": "99HbwF5iPbaD",
        "outputId": "e7e91b7d-9ac0-4594-ee80-5a86139d779f"
      },
      "outputs": [
        {
          "output_type": "stream",
          "name": "stdout",
          "text": [
            "Model: \"vggface_vgg16\"\n",
            "_________________________________________________________________\n",
            " Layer (type)                Output Shape              Param #   \n",
            "=================================================================\n",
            " input_1 (InputLayer)        [(None, 224, 224, 3)]     0         \n",
            "                                                                 \n",
            " conv1_1 (Conv2D)            (None, 224, 224, 64)      1792      \n",
            "                                                                 \n",
            " conv1_2 (Conv2D)            (None, 224, 224, 64)      36928     \n",
            "                                                                 \n",
            " pool1 (MaxPooling2D)        (None, 112, 112, 64)      0         \n",
            "                                                                 \n",
            " conv2_1 (Conv2D)            (None, 112, 112, 128)     73856     \n",
            "                                                                 \n",
            " conv2_2 (Conv2D)            (None, 112, 112, 128)     147584    \n",
            "                                                                 \n",
            " pool2 (MaxPooling2D)        (None, 56, 56, 128)       0         \n",
            "                                                                 \n",
            " conv3_1 (Conv2D)            (None, 56, 56, 256)       295168    \n",
            "                                                                 \n",
            " conv3_2 (Conv2D)            (None, 56, 56, 256)       590080    \n",
            "                                                                 \n",
            " conv3_3 (Conv2D)            (None, 56, 56, 256)       590080    \n",
            "                                                                 \n",
            " pool3 (MaxPooling2D)        (None, 28, 28, 256)       0         \n",
            "                                                                 \n",
            " conv4_1 (Conv2D)            (None, 28, 28, 512)       1180160   \n",
            "                                                                 \n",
            " conv4_2 (Conv2D)            (None, 28, 28, 512)       2359808   \n",
            "                                                                 \n",
            " conv4_3 (Conv2D)            (None, 28, 28, 512)       2359808   \n",
            "                                                                 \n",
            " pool4 (MaxPooling2D)        (None, 14, 14, 512)       0         \n",
            "                                                                 \n",
            " conv5_1 (Conv2D)            (None, 14, 14, 512)       2359808   \n",
            "                                                                 \n",
            " conv5_2 (Conv2D)            (None, 14, 14, 512)       2359808   \n",
            "                                                                 \n",
            " conv5_3 (Conv2D)            (None, 14, 14, 512)       2359808   \n",
            "                                                                 \n",
            " pool5 (MaxPooling2D)        (None, 7, 7, 512)         0         \n",
            "                                                                 \n",
            " global_average_pooling2d (G  (None, 512)              0         \n",
            " lobalAveragePooling2D)                                          \n",
            "                                                                 \n",
            "=================================================================\n",
            "Total params: 14,714,688\n",
            "Trainable params: 0\n",
            "Non-trainable params: 14,714,688\n",
            "_________________________________________________________________\n",
            "None\n"
          ]
        }
      ],
      "source": [
        "# Using feature extraction transfer learing, freeze base layer's parameters\n",
        "for layer in vgg_features.layers:\n",
        "    layer.trainable = False\n",
        "\n",
        "print(vgg_features.summary())"
      ]
    },
    {
      "cell_type": "code",
      "execution_count": null,
      "metadata": {
        "id": "0-mSv1YrsRzD",
        "colab": {
          "base_uri": "https://localhost:8080/"
        },
        "outputId": "cccf99d8-c1b6-44b3-efb2-02c8a33a49fb"
      },
      "outputs": [
        {
          "output_type": "stream",
          "name": "stdout",
          "text": [
            "Model: \"model_3\"\n",
            "_________________________________________________________________\n",
            " Layer (type)                Output Shape              Param #   \n",
            "=================================================================\n",
            " input_1 (InputLayer)        [(None, 224, 224, 3)]     0         \n",
            "                                                                 \n",
            " conv1_1 (Conv2D)            (None, 224, 224, 64)      1792      \n",
            "                                                                 \n",
            " conv1_2 (Conv2D)            (None, 224, 224, 64)      36928     \n",
            "                                                                 \n",
            " pool1 (MaxPooling2D)        (None, 112, 112, 64)      0         \n",
            "                                                                 \n",
            " conv2_1 (Conv2D)            (None, 112, 112, 128)     73856     \n",
            "                                                                 \n",
            " conv2_2 (Conv2D)            (None, 112, 112, 128)     147584    \n",
            "                                                                 \n",
            " pool2 (MaxPooling2D)        (None, 56, 56, 128)       0         \n",
            "                                                                 \n",
            " conv3_1 (Conv2D)            (None, 56, 56, 256)       295168    \n",
            "                                                                 \n",
            " conv3_2 (Conv2D)            (None, 56, 56, 256)       590080    \n",
            "                                                                 \n",
            " conv3_3 (Conv2D)            (None, 56, 56, 256)       590080    \n",
            "                                                                 \n",
            " pool3 (MaxPooling2D)        (None, 28, 28, 256)       0         \n",
            "                                                                 \n",
            " conv4_1 (Conv2D)            (None, 28, 28, 512)       1180160   \n",
            "                                                                 \n",
            " conv4_2 (Conv2D)            (None, 28, 28, 512)       2359808   \n",
            "                                                                 \n",
            " conv4_3 (Conv2D)            (None, 28, 28, 512)       2359808   \n",
            "                                                                 \n",
            " pool4 (MaxPooling2D)        (None, 14, 14, 512)       0         \n",
            "                                                                 \n",
            " conv5_1 (Conv2D)            (None, 14, 14, 512)       2359808   \n",
            "                                                                 \n",
            " conv5_2 (Conv2D)            (None, 14, 14, 512)       2359808   \n",
            "                                                                 \n",
            " conv5_3 (Conv2D)            (None, 14, 14, 512)       2359808   \n",
            "                                                                 \n",
            " pool5 (MaxPooling2D)        (None, 7, 7, 512)         0         \n",
            "                                                                 \n",
            " flatten_1 (Flatten)         (None, 25088)             0         \n",
            "                                                                 \n",
            " dense_3 (Dense)             (None, 4096)              102764544 \n",
            "                                                                 \n",
            " dropout_2 (Dropout)         (None, 4096)              0         \n",
            "                                                                 \n",
            " dense_4 (Dense)             (None, 4096)              16781312  \n",
            "                                                                 \n",
            " dropout_3 (Dropout)         (None, 4096)              0         \n",
            "                                                                 \n",
            " dense_5 (Dense)             (None, 2)                 8194      \n",
            "                                                                 \n",
            "=================================================================\n",
            "Total params: 134,268,738\n",
            "Trainable params: 119,554,050\n",
            "Non-trainable params: 14,714,688\n",
            "_________________________________________________________________\n",
            "None\n"
          ]
        }
      ],
      "source": [
        "# Number of output classes\n",
        "folders = glob('/content/output/train/*')\n",
        "\n",
        "# Add dense and dropout layers to perform the predictions\n",
        "test_model = Model(inputs=vgg_features.input, outputs=vgg_features.layers[-2].output)\n",
        "x = Flatten()(test_model.output)\n",
        "x = Dense(4096, activation='relu')(x)\n",
        "x = Dropout(0.6)(x)\n",
        "x = Dense(4096, activation='relu')(x)\n",
        "x = Dropout(0.6)(x)\n",
        "prediction = Dense(len(folders), activation='softmax')(x)\n",
        "model = Model(inputs=test_model.input, outputs=prediction)\n",
        "\n",
        "print(model.summary())"
      ]
    },
    {
      "cell_type": "code",
      "execution_count": null,
      "metadata": {
        "id": "B3CPnAJEschS"
      },
      "outputs": [],
      "source": [
        "# Set up cost and optimizer \n",
        "from tensorflow.keras.optimizers import Adam\n",
        "opt = Adam(learning_rate=0.0001)\n",
        "\n",
        "model.compile(\n",
        "  loss=tf.keras.losses.BinaryCrossentropy(),\n",
        "  optimizer=opt,\n",
        "  metrics=tf.keras.metrics.BinaryAccuracy()\n",
        ")"
      ]
    },
    {
      "cell_type": "code",
      "execution_count": null,
      "metadata": {
        "id": "g_stJElfsdhK"
      },
      "outputs": [],
      "source": [
        "# Use the Image Data Generator to import the images from the dataset, apply distortions to the training dataset only\n",
        "from tensorflow.keras.preprocessing.image import ImageDataGenerator\n",
        "\n",
        "train_datagen = ImageDataGenerator(rescale = 1./255,\n",
        "                                   shear_range = 0.2,\n",
        "                                   zoom_range = 0.2,\n",
        "                                   horizontal_flip = True)\n",
        "\n",
        "test_datagen = ImageDataGenerator(rescale = 1./255)"
      ]
    },
    {
      "cell_type": "code",
      "execution_count": null,
      "metadata": {
        "colab": {
          "base_uri": "https://localhost:8080/"
        },
        "id": "mwsLzCS7sjOD",
        "outputId": "bba68dc4-8a06-4aeb-eb70-5bf7e1529856"
      },
      "outputs": [
        {
          "output_type": "stream",
          "name": "stdout",
          "text": [
            "Found 13961 images belonging to 2 classes.\n"
          ]
        }
      ],
      "source": [
        "training_set = train_datagen.flow_from_directory(train_path,\n",
        "                                                 target_size = (224, 224),\n",
        "                                                 batch_size = 32,\n",
        "                                                 class_mode = 'categorical')"
      ]
    },
    {
      "cell_type": "code",
      "execution_count": null,
      "metadata": {
        "colab": {
          "base_uri": "https://localhost:8080/"
        },
        "id": "oaZBP5RGso3p",
        "outputId": "ceef7504-103f-4d25-ff33-3f609b7a1ba1"
      },
      "outputs": [
        {
          "output_type": "stream",
          "name": "stdout",
          "text": [
            "Found 1745 images belonging to 2 classes.\n"
          ]
        }
      ],
      "source": [
        "val_set = test_datagen.flow_from_directory(valid_path,\n",
        "                                            target_size = (224, 224),\n",
        "                                            batch_size = 32,\n",
        "                                            class_mode = 'categorical')"
      ]
    },
    {
      "cell_type": "code",
      "execution_count": null,
      "metadata": {
        "colab": {
          "base_uri": "https://localhost:8080/"
        },
        "id": "dhfeEu0IGgPN",
        "outputId": "08b8c87a-226f-49a6-80e3-f86e125a4f9a"
      },
      "outputs": [
        {
          "output_type": "stream",
          "name": "stdout",
          "text": [
            "Found 1746 images belonging to 2 classes.\n"
          ]
        }
      ],
      "source": [
        "test_set = test_datagen.flow_from_directory(test_path,\n",
        "                                            target_size = (224, 224),\n",
        "                                            batch_size = 1,\n",
        "                                            class_mode = 'categorical',\n",
        "                                            shuffle = False)"
      ]
    },
    {
      "cell_type": "code",
      "execution_count": null,
      "metadata": {
        "colab": {
          "base_uri": "https://localhost:8080/"
        },
        "id": "wcqa4LNmswaZ",
        "outputId": "c2a7e1a6-6ca1-4824-ec73-360a8f24bd0a"
      },
      "outputs": [
        {
          "output_type": "stream",
          "name": "stdout",
          "text": [
            "Epoch 1/5\n",
            "437/437 [==============================] - 241s 546ms/step - loss: 0.2583 - binary_accuracy: 0.8970 - val_loss: 0.1634 - val_binary_accuracy: 0.9324\n",
            "Epoch 2/5\n",
            "437/437 [==============================] - 220s 503ms/step - loss: 0.1807 - binary_accuracy: 0.9265 - val_loss: 0.1438 - val_binary_accuracy: 0.9370\n",
            "Epoch 3/5\n",
            "437/437 [==============================] - 219s 501ms/step - loss: 0.1584 - binary_accuracy: 0.9381 - val_loss: 0.1647 - val_binary_accuracy: 0.9312\n",
            "Epoch 4/5\n",
            "437/437 [==============================] - 218s 499ms/step - loss: 0.1335 - binary_accuracy: 0.9482 - val_loss: 0.1273 - val_binary_accuracy: 0.9473\n",
            "Epoch 5/5\n",
            "437/437 [==============================] - 218s 499ms/step - loss: 0.1163 - binary_accuracy: 0.9537 - val_loss: 0.1200 - val_binary_accuracy: 0.9547\n"
          ]
        }
      ],
      "source": [
        "# Fit the model\n",
        "r = model.fit(\n",
        "  training_set,\n",
        "  validation_data=val_set,\n",
        "  epochs=5,\n",
        "  steps_per_epoch=len(training_set),\n",
        "  validation_steps=len(val_set)\n",
        ")"
      ]
    },
    {
      "cell_type": "code",
      "execution_count": null,
      "metadata": {
        "id": "_iNIjgXUISkT",
        "colab": {
          "base_uri": "https://localhost:8080/",
          "height": 265
        },
        "outputId": "7d86bb45-ff7b-4764-90b8-01c11744c0dc"
      },
      "outputs": [
        {
          "output_type": "display_data",
          "data": {
            "image/png": "[encoded data removed]",
            "text/plain": [
              "<Figure size 432x288 with 1 Axes>"
            ]
          },
          "metadata": {
            "needs_background": "light"
          }
        }
      ],
      "source": [
        "plt.plot(r.history['binary_accuracy'], label='binary_accuracy')\n",
        "plt.plot(r.history['val_binary_accuracy'], label='validation_binary_accuracy')\n",
        "plt.legend()\n",
        "plt.show()"
      ]
    },
    {
      "cell_type": "code",
      "execution_count": null,
      "metadata": {
        "id": "fyJuhsMbIkSh",
        "colab": {
          "base_uri": "https://localhost:8080/",
          "height": 265
        },
        "outputId": "7fa89188-a72d-4c03-b50c-c9e9db0e7f71"
      },
      "outputs": [
        {
          "output_type": "display_data",
          "data": {
            "image/png": "[encoded data removed]",
            "text/plain": [
              "<Figure size 432x288 with 1 Axes>"
            ]
          },
          "metadata": {
            "needs_background": "light"
          }
        }
      ],
      "source": [
        "plt.plot(r.history['loss'], label='loss')\n",
        "plt.plot(r.history['val_loss'], label='validation_loss')\n",
        "plt.legend()\n",
        "plt.show()"
      ]
    },
    {
      "cell_type": "markdown",
      "source": [
        "## **Model Performance Results**"
      ],
      "metadata": {
        "id": "7xVIl3BoWH_U"
      }
    },
    {
      "cell_type": "code",
      "execution_count": null,
      "metadata": {
        "id": "bTfavcce7MZD",
        "colab": {
          "base_uri": "https://localhost:8080/"
        },
        "outputId": "fd234d07-ba39-4606-9049-c27f8e99232a"
      },
      "outputs": [
        {
          "output_type": "stream",
          "name": "stdout",
          "text": [
            "INFO:tensorflow:Assets written to: /content/model/assets\n"
          ]
        }
      ],
      "source": [
        "model.save('/content/model/')"
      ]
    },
    {
      "cell_type": "code",
      "execution_count": null,
      "metadata": {
        "id": "80dBWc1h1vev"
      },
      "outputs": [],
      "source": [
        "from tensorflow import keras\n",
        "test_model = keras.models.load_model('/content/model/')"
      ]
    },
    {
      "cell_type": "code",
      "execution_count": null,
      "metadata": {
        "id": "tfR16jmh-9-Z"
      },
      "outputs": [],
      "source": [
        "# Get list of pictures from test set\n",
        "filenames = test_set.filenames\n",
        "num_samples = len(filenames)"
      ]
    },
    {
      "cell_type": "code",
      "execution_count": null,
      "metadata": {
        "id": "ePPIj1Ga-tna"
      },
      "outputs": [],
      "source": [
        "# Get predictions for the test set\n",
        "y_pred = model.predict(test_set, steps=num_samples)\n",
        "pred = np.argmax(y_pred, axis=1)"
      ]
    },
    {
      "cell_type": "code",
      "execution_count": null,
      "metadata": {
        "id": "Bfse71JwDS2L"
      },
      "outputs": [],
      "source": [
        "# Convert one hot encoding to integer and calculate total accuracy \n",
        "labels = []\n",
        "count = 0\n",
        "for i in range(len(pred)):\n",
        "\n",
        "  labels.append(np.argmax(test_set[i][1][0]))\n",
        "\n",
        "  if test_set[i][1][0][pred[i]] == 1:\n",
        "    count = count + 1\n",
        "\n",
        "labels = np.asarray(labels)"
      ]
    },
    {
      "cell_type": "code",
      "execution_count": null,
      "metadata": {
        "colab": {
          "base_uri": "https://localhost:8080/"
        },
        "id": "lTUfCGg24hGt",
        "outputId": "7059c9c2-497d-4ffc-c6ad-5d8113996080"
      },
      "outputs": [
        {
          "output_type": "stream",
          "name": "stdout",
          "text": [
            "1656\n",
            "0.9484536082474226\n"
          ]
        }
      ],
      "source": [
        "print(count)\n",
        "print(count / len(pred))"
      ]
    },
    {
      "cell_type": "code",
      "execution_count": null,
      "metadata": {
        "id": "LEFmEyQtkUay"
      },
      "outputs": [],
      "source": [
        "# Confusion matrix\n",
        "confusion = tf.math.confusion_matrix(labels=labels, predictions=pred, num_classes=2).numpy()\n",
        "norm_confusion = np.around(confusion.astype('float') / confusion.sum(axis=1)[:, np.newaxis], decimals=2)"
      ]
    },
    {
      "cell_type": "code",
      "execution_count": null,
      "metadata": {
        "colab": {
          "base_uri": "https://localhost:8080/",
          "height": 296
        },
        "id": "QL-XCLIQlMrJ",
        "outputId": "9c3e073b-00ac-438d-d88d-155eacb6e4c2"
      },
      "outputs": [
        {
          "output_type": "execute_result",
          "data": {
            "text/plain": [
              "<sklearn.metrics._plot.confusion_matrix.ConfusionMatrixDisplay at 0x7f423e0d1790>"
            ]
          },
          "metadata": {},
          "execution_count": 55
        },
        {
          "output_type": "display_data",
          "data": {
            "image/png": "[encoded data removed]",
            "text/plain": [
              "<Figure size 432x288 with 2 Axes>"
            ]
          },
          "metadata": {
            "needs_background": "light"
          }
        }
      ],
      "source": [
        "from sklearn.metrics import ConfusionMatrixDisplay\n",
        "ConfusionMatrixDisplay.from_predictions(labels, pred)"
      ]
    },
    {
      "cell_type": "code",
      "execution_count": null,
      "metadata": {
        "colab": {
          "base_uri": "https://localhost:8080/",
          "height": 599
        },
        "id": "zgju8HQCr5-Q",
        "outputId": "76007c42-3b93-4202-edd4-2d40a22cf5c8"
      },
      "outputs": [
        {
          "output_type": "display_data",
          "data": {
            "image/png": "[encoded data removed]",
            "text/plain": [
              "<Figure size 576x576 with 2 Axes>"
            ]
          },
          "metadata": {
            "needs_background": "light"
          }
        }
      ],
      "source": [
        "# Normalized confusion matrix\n",
        "classes = [\"F\", \"M\"]\n",
        "con_mat_df = pd.DataFrame(norm_confusion,\n",
        "                     index = classes, \n",
        "                     columns = classes)\n",
        "\n",
        "figure = plt.figure(figsize=(8, 8))\n",
        "sns.heatmap(con_mat_df, annot=True, cmap=plt.cm.Blues)\n",
        "plt.tight_layout()\n",
        "plt.ylabel('True label')\n",
        "plt.xlabel('Predicted label')\n",
        "plt.show()"
      ]
    },
    {
      "cell_type": "code",
      "source": [
        "# Test result of models\n",
        "gender_dict = {\n",
        "    0: \"Female\",\n",
        "    1: \"Male\"\n",
        "}\n",
        "\n",
        "nums = 1136\n",
        "\n",
        "img = test_set[nums][0]\n",
        "img = np.squeeze(img)\n",
        "print(gender_dict[pred[nums]])\n",
        "print(gender_dict[np.argmax(test_set[nums][1][0])])\n",
        "plt.imshow(img[:, :, :])"
      ],
      "metadata": {
        "colab": {
          "base_uri": "https://localhost:8080/",
          "height": 321
        },
        "id": "UrBDQmrvxlPB",
        "outputId": "68df2b1e-aa3a-4275-85f2-9d4d7a1a0be2"
      },
      "execution_count": null,
      "outputs": [
        {
          "output_type": "stream",
          "name": "stdout",
          "text": [
            "Male\n",
            "Male\n"
          ]
        },
        {
          "output_type": "execute_result",
          "data": {
            "text/plain": [
              "<matplotlib.image.AxesImage at 0x7f423ecd1cd0>"
            ]
          },
          "metadata": {},
          "execution_count": 57
        },
        {
          "output_type": "display_data",
          "data": {
            "image/png": "[encoded data removed]",
            "text/plain": [
              "<Figure size 432x288 with 1 Axes>"
            ]
          },
          "metadata": {
            "needs_background": "light"
          }
        }
      ]
    },
    {
      "cell_type": "code",
      "execution_count": null,
      "metadata": {
        "id": "s9qhUZDM4w8N",
        "colab": {
          "base_uri": "https://localhost:8080/",
          "height": 35
        },
        "outputId": "0a02094b-cde9-4398-f975-490b26bb225d"
      },
      "outputs": [
        {
          "output_type": "execute_result",
          "data": {
            "application/vnd.google.colaboratory.intrinsic+json": {
              "type": "string"
            },
            "text/plain": [
              "'/content/drive/MyDrive/data/model_gender.zip'"
            ]
          },
          "metadata": {},
          "execution_count": 58
        }
      ],
      "source": [
        "# Export model as zip\n",
        "shutil.make_archive(\"model_gender\", \"zip\", \"/content/model\")"
      ]
    }
  ],
  "metadata": {
    "accelerator": "GPU",
    "colab": {
      "collapsed_sections": [],
      "name": "Gender_Model.ipynb",
      "provenance": [],
      "authorship_tag": "ABX9TyPPdlhjMZ8DwzuDI+Hl3LRu",
      "include_colab_link": true
    },
    "kernelspec": {
      "display_name": "Python 3",
      "name": "python3"
    },
    "language_info": {
      "name": "python"
    }
  },
  "nbformat": 4,
  "nbformat_minor": 0
}