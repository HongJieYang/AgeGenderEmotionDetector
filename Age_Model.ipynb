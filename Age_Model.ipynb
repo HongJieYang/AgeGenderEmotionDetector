{
  "cells": [
    {
      "cell_type": "markdown",
      "metadata": {
        "id": "view-in-github",
        "colab_type": "text"
      },
      "source": [
        "<a href=\"https://colab.research.google.com/github/HongJieYang/Age-Gender-Emotion-Detector/blob/main/Age_Model.ipynb\" target=\"_parent\"><img src=\"https://colab.research.google.com/assets/colab-badge.svg\" alt=\"Open In Colab\"/></a>"
      ]
    },
    {
      "cell_type": "code",
      "execution_count": null,
      "metadata": {
        "id": "hi1T7DcKZ1J-"
      },
      "outputs": [],
      "source": [
        "# VGGFace based on architecture\n",
        "from IPython.display import clear_output\n",
        "!pip install keras_vggface\n",
        "clear_output()"
      ]
    },
    {
      "cell_type": "code",
      "execution_count": null,
      "metadata": {
        "id": "9YSncrktcwL_"
      },
      "outputs": [],
      "source": [
        "# Required for VGGFace\n",
        "!pip install keras_applications\n",
        "clear_output()"
      ]
    },
    {
      "cell_type": "code",
      "execution_count": null,
      "metadata": {
        "colab": {
          "base_uri": "https://localhost:8080/"
        },
        "id": "witfyPGF46ZM",
        "outputId": "86c72375-422d-4f52-965c-5b3d25521a4d"
      },
      "outputs": [
        {
          "output_type": "stream",
          "name": "stdout",
          "text": [
            "Mounted at /content/drive\n"
          ]
        }
      ],
      "source": [
        "# Set up directory\n",
        "import os\n",
        "from google.colab import drive\n",
        "drive.mount(\"/content/drive\", force_remount=True)\n",
        "os.chdir('/content')"
      ]
    },
    {
      "cell_type": "code",
      "execution_count": null,
      "metadata": {
        "id": "CMR7g30c5IZV"
      },
      "outputs": [],
      "source": [
        "# Create local copy \n",
        "!cp \"/content/drive/MyDrive/test/faces.zip\" .\n",
        "!unzip -q \"/content/faces.zip\""
      ]
    },
    {
      "cell_type": "code",
      "execution_count": null,
      "metadata": {
        "id": "vHAKU5dK5OOV"
      },
      "outputs": [],
      "source": [
        "import numpy as np\n",
        "import pandas as pd\n",
        "import matplotlib.pyplot as plt\n",
        "import seaborn as sns\n",
        "import cv2\n",
        "import tensorflow as tf\n",
        "from PIL import Image"
      ]
    },
    {
      "cell_type": "markdown",
      "metadata": {
        "id": "ufVHqMjDxirn"
      },
      "source": [
        "## **Load and Organize the Images Based on Age**"
      ]
    },
    {
      "cell_type": "code",
      "execution_count": null,
      "metadata": {
        "id": "aOfgezA_5bzk"
      },
      "outputs": [],
      "source": [
        "#load data (Downloaded from https://talhassner.github.io/home/projects/Adience/Adience-data.html)\n",
        "os.chdir('/content/drive/MyDrive/data')\n",
        "fold_0 = pd.read_csv(\"fold_0_data.txt\",sep = \"\\t\" )\n",
        "fold_1 = pd.read_csv(\"fold_1_data.txt\",sep = \"\\t\")\n",
        "fold_2 = pd.read_csv(\"fold_2_data.txt\",sep = \"\\t\")\n",
        "fold_3 = pd.read_csv(\"fold_3_data.txt\",sep = \"\\t\")\n",
        "fold_4 = pd.read_csv(\"fold_4_data.txt\",sep = \"\\t\")"
      ]
    },
    {
      "cell_type": "code",
      "execution_count": null,
      "metadata": {
        "colab": {
          "base_uri": "https://localhost:8080/",
          "height": 553
        },
        "id": "0jcspl4r5rQd",
        "outputId": "ca2872dc-e299-47a2-9410-2df82d747476"
      },
      "outputs": [
        {
          "output_type": "stream",
          "name": "stdout",
          "text": [
            "(19370, 12)\n",
            "<class 'pandas.core.frame.DataFrame'>\n",
            "RangeIndex: 19370 entries, 0 to 19369\n",
            "Data columns (total 12 columns):\n",
            " #   Column              Non-Null Count  Dtype \n",
            "---  ------              --------------  ----- \n",
            " 0   user_id             19370 non-null  object\n",
            " 1   original_image      19370 non-null  object\n",
            " 2   face_id             19370 non-null  int64 \n",
            " 3   age                 19370 non-null  object\n",
            " 4   gender              18591 non-null  object\n",
            " 5   x                   19370 non-null  int64 \n",
            " 6   y                   19370 non-null  int64 \n",
            " 7   dx                  19370 non-null  int64 \n",
            " 8   dy                  19370 non-null  int64 \n",
            " 9   tilt_ang            19370 non-null  int64 \n",
            " 10  fiducial_yaw_angle  19370 non-null  int64 \n",
            " 11  fiducial_score      19370 non-null  int64 \n",
            "dtypes: int64(8), object(4)\n",
            "memory usage: 1.8+ MB\n"
          ]
        },
        {
          "output_type": "execute_result",
          "data": {
            "text/html": [
              "\n",
              "  <div id=\"df-ab8abc6e-5b1a-4347-8544-6ba879d66430\">\n",
              "    <div class=\"colab-df-container\">\n",
              "      <div>\n",
              "<style scoped>\n",
              "    .dataframe tbody tr th:only-of-type {\n",
              "        vertical-align: middle;\n",
              "    }\n",
              "\n",
              "    .dataframe tbody tr th {\n",
              "        vertical-align: top;\n",
              "    }\n",
              "\n",
              "    .dataframe thead th {\n",
              "        text-align: right;\n",
              "    }\n",
              "</style>\n",
              "<table border=\"1\" class=\"dataframe\">\n",
              "  <thead>\n",
              "    <tr style=\"text-align: right;\">\n",
              "      <th></th>\n",
              "      <th>user_id</th>\n",
              "      <th>original_image</th>\n",
              "      <th>face_id</th>\n",
              "      <th>age</th>\n",
              "      <th>gender</th>\n",
              "      <th>x</th>\n",
              "      <th>y</th>\n",
              "      <th>dx</th>\n",
              "      <th>dy</th>\n",
              "      <th>tilt_ang</th>\n",
              "      <th>fiducial_yaw_angle</th>\n",
              "      <th>fiducial_score</th>\n",
              "    </tr>\n",
              "  </thead>\n",
              "  <tbody>\n",
              "    <tr>\n",
              "      <th>0</th>\n",
              "      <td>30601258@N03</td>\n",
              "      <td>10399646885_67c7d20df9_o.jpg</td>\n",
              "      <td>1</td>\n",
              "      <td>(25, 32)</td>\n",
              "      <td>f</td>\n",
              "      <td>0</td>\n",
              "      <td>414</td>\n",
              "      <td>1086</td>\n",
              "      <td>1383</td>\n",
              "      <td>-115</td>\n",
              "      <td>30</td>\n",
              "      <td>17</td>\n",
              "    </tr>\n",
              "    <tr>\n",
              "      <th>1</th>\n",
              "      <td>30601258@N03</td>\n",
              "      <td>10424815813_e94629b1ec_o.jpg</td>\n",
              "      <td>2</td>\n",
              "      <td>(25, 32)</td>\n",
              "      <td>m</td>\n",
              "      <td>301</td>\n",
              "      <td>105</td>\n",
              "      <td>640</td>\n",
              "      <td>641</td>\n",
              "      <td>0</td>\n",
              "      <td>0</td>\n",
              "      <td>94</td>\n",
              "    </tr>\n",
              "    <tr>\n",
              "      <th>2</th>\n",
              "      <td>30601258@N03</td>\n",
              "      <td>10437979845_5985be4b26_o.jpg</td>\n",
              "      <td>1</td>\n",
              "      <td>(25, 32)</td>\n",
              "      <td>f</td>\n",
              "      <td>2395</td>\n",
              "      <td>876</td>\n",
              "      <td>771</td>\n",
              "      <td>771</td>\n",
              "      <td>175</td>\n",
              "      <td>-30</td>\n",
              "      <td>74</td>\n",
              "    </tr>\n",
              "    <tr>\n",
              "      <th>3</th>\n",
              "      <td>30601258@N03</td>\n",
              "      <td>10437979845_5985be4b26_o.jpg</td>\n",
              "      <td>3</td>\n",
              "      <td>(25, 32)</td>\n",
              "      <td>m</td>\n",
              "      <td>752</td>\n",
              "      <td>1255</td>\n",
              "      <td>484</td>\n",
              "      <td>485</td>\n",
              "      <td>180</td>\n",
              "      <td>0</td>\n",
              "      <td>47</td>\n",
              "    </tr>\n",
              "    <tr>\n",
              "      <th>4</th>\n",
              "      <td>30601258@N03</td>\n",
              "      <td>11816644924_075c3d8d59_o.jpg</td>\n",
              "      <td>2</td>\n",
              "      <td>(25, 32)</td>\n",
              "      <td>m</td>\n",
              "      <td>175</td>\n",
              "      <td>80</td>\n",
              "      <td>769</td>\n",
              "      <td>768</td>\n",
              "      <td>-75</td>\n",
              "      <td>0</td>\n",
              "      <td>34</td>\n",
              "    </tr>\n",
              "  </tbody>\n",
              "</table>\n",
              "</div>\n",
              "      <button class=\"colab-df-convert\" onclick=\"convertToInteractive('df-ab8abc6e-5b1a-4347-8544-6ba879d66430')\"\n",
              "              title=\"Convert this dataframe to an interactive table.\"\n",
              "              style=\"display:none;\">\n",
              "        \n",
              "  <svg xmlns=\"http://www.w3.org/2000/svg\" height=\"24px\"viewBox=\"0 0 24 24\"\n",
              "       width=\"24px\">\n",
              "    <path d=\"M0 0h24v24H0V0z\" fill=\"none\"/>\n",
              "    <path d=\"M18.56 5.44l.94 2.06.94-2.06 2.06-.94-2.06-.94-.94-2.06-.94 2.06-2.06.94zm-11 1L8.5 8.5l.94-2.06 2.06-.94-2.06-.94L8.5 2.5l-.94 2.06-2.06.94zm10 10l.94 2.06.94-2.06 2.06-.94-2.06-.94-.94-2.06-.94 2.06-2.06.94z\"/><path d=\"M17.41 7.96l-1.37-1.37c-.4-.4-.92-.59-1.43-.59-.52 0-1.04.2-1.43.59L10.3 9.45l-7.72 7.72c-.78.78-.78 2.05 0 2.83L4 21.41c.39.39.9.59 1.41.59.51 0 1.02-.2 1.41-.59l7.78-7.78 2.81-2.81c.8-.78.8-2.07 0-2.86zM5.41 20L4 18.59l7.72-7.72 1.47 1.35L5.41 20z\"/>\n",
              "  </svg>\n",
              "      </button>\n",
              "      \n",
              "  <style>\n",
              "    .colab-df-container {\n",
              "      display:flex;\n",
              "      flex-wrap:wrap;\n",
              "      gap: 12px;\n",
              "    }\n",
              "\n",
              "    .colab-df-convert {\n",
              "      background-color: #E8F0FE;\n",
              "      border: none;\n",
              "      border-radius: 50%;\n",
              "      cursor: pointer;\n",
              "      display: none;\n",
              "      fill: #1967D2;\n",
              "      height: 32px;\n",
              "      padding: 0 0 0 0;\n",
              "      width: 32px;\n",
              "    }\n",
              "\n",
              "    .colab-df-convert:hover {\n",
              "      background-color: #E2EBFA;\n",
              "      box-shadow: 0px 1px 2px rgba(60, 64, 67, 0.3), 0px 1px 3px 1px rgba(60, 64, 67, 0.15);\n",
              "      fill: #174EA6;\n",
              "    }\n",
              "\n",
              "    [theme=dark] .colab-df-convert {\n",
              "      background-color: #3B4455;\n",
              "      fill: #D2E3FC;\n",
              "    }\n",
              "\n",
              "    [theme=dark] .colab-df-convert:hover {\n",
              "      background-color: #434B5C;\n",
              "      box-shadow: 0px 1px 3px 1px rgba(0, 0, 0, 0.15);\n",
              "      filter: drop-shadow(0px 1px 2px rgba(0, 0, 0, 0.3));\n",
              "      fill: #FFFFFF;\n",
              "    }\n",
              "  </style>\n",
              "\n",
              "      <script>\n",
              "        const buttonEl =\n",
              "          document.querySelector('#df-ab8abc6e-5b1a-4347-8544-6ba879d66430 button.colab-df-convert');\n",
              "        buttonEl.style.display =\n",
              "          google.colab.kernel.accessAllowed ? 'block' : 'none';\n",
              "\n",
              "        async function convertToInteractive(key) {\n",
              "          const element = document.querySelector('#df-ab8abc6e-5b1a-4347-8544-6ba879d66430');\n",
              "          const dataTable =\n",
              "            await google.colab.kernel.invokeFunction('convertToInteractive',\n",
              "                                                     [key], {});\n",
              "          if (!dataTable) return;\n",
              "\n",
              "          const docLinkHtml = 'Like what you see? Visit the ' +\n",
              "            '<a target=\"_blank\" href=https://colab.research.google.com/notebooks/data_table.ipynb>data table notebook</a>'\n",
              "            + ' to learn more about interactive tables.';\n",
              "          element.innerHTML = '';\n",
              "          dataTable['output_type'] = 'display_data';\n",
              "          await google.colab.output.renderOutput(dataTable, element);\n",
              "          const docLink = document.createElement('div');\n",
              "          docLink.innerHTML = docLinkHtml;\n",
              "          element.appendChild(docLink);\n",
              "        }\n",
              "      </script>\n",
              "    </div>\n",
              "  </div>\n",
              "  "
            ],
            "text/plain": [
              "        user_id  ... fiducial_score\n",
              "0  30601258@N03  ...             17\n",
              "1  30601258@N03  ...             94\n",
              "2  30601258@N03  ...             74\n",
              "3  30601258@N03  ...             47\n",
              "4  30601258@N03  ...             34\n",
              "\n",
              "[5 rows x 12 columns]"
            ]
          },
          "metadata": {},
          "execution_count": 7
        }
      ],
      "source": [
        "# Combined data_set\n",
        "total_data = pd.concat([fold_0, fold_1, fold_2, fold_3, fold_4], ignore_index=True)\n",
        "print(total_data.shape)\n",
        "total_data.info()\n",
        "total_data.head()"
      ]
    },
    {
      "cell_type": "code",
      "execution_count": null,
      "metadata": {
        "id": "OWrXgrYw6GKl",
        "colab": {
          "base_uri": "https://localhost:8080/"
        },
        "outputId": "1a3e54e6-4a79-4e3b-f2ab-23c132fec030"
      },
      "outputs": [
        {
          "output_type": "execute_result",
          "data": {
            "text/plain": [
              "19370"
            ]
          },
          "metadata": {},
          "execution_count": 8
        }
      ],
      "source": [
        "# Replace singular ages with their corresponding ranges\n",
        "map_dict = {\n",
        "    \"13\": \"(8, 12)\",\n",
        "    \"2\" : \"(0, 2)\",\n",
        "    \"22\": \"(15, 20)\",\n",
        "    \"23\": \"(25, 32)\",\n",
        "    \"29\": \"(25, 32)\",\n",
        "    \"3\" : \"(0, 2)\",\n",
        "    \"32\": \"(25, 32)\",\n",
        "    \"34\": \"(25, 32)\",\n",
        "    \"35\": \"(25, 32)\",\n",
        "    \"36\": \"(38, 43)\",\n",
        "    \"42\": \"(38, 43)\",\n",
        "    \"45\": \"(38, 43)\",\n",
        "    \"46\": \"(48, 53)\",\n",
        "    \"55\": \"(48, 53)\",\n",
        "    \"56\": \"(48, 53)\",\n",
        "    \"57\": \"(60, 100)\",\n",
        "    \"58\": \"(60, 100)\",\n",
        "    \n",
        "    \"(8, 23)\" : \"(8, 12)\",\n",
        "    \"(27, 32)\": \"(25, 32)\",\n",
        "    \"(38, 42)\": \"(38, 43)\",\n",
        "    \"(38, 48)\": \"(38, 43)\",\n",
        "}\n",
        "\n",
        "def map_func(x):\n",
        "    if x in map_dict:\n",
        "        return map_dict[x]\n",
        "    else:\n",
        "        return x\n",
        "\n",
        "df = total_data.replace('None', np.nan).dropna() # Remove empty values from dataset\n",
        "df[\"age\"] = df[\"age\"].map(map_func)\n",
        "\n",
        "df[\"age\"].value_counts()\n",
        "df.shape[0]\n",
        "total_data.shape[0]"
      ]
    },
    {
      "cell_type": "markdown",
      "source": [
        "## **Prepare Pictures for Data Loader Based on Age**"
      ],
      "metadata": {
        "id": "EsCe52jyVye-"
      }
    },
    {
      "cell_type": "code",
      "execution_count": null,
      "metadata": {
        "id": "nviXancJGEjW"
      },
      "outputs": [],
      "source": [
        "import shutil\n",
        "folder_path = \"/content/faces/faces\""
      ]
    },
    {
      "cell_type": "code",
      "execution_count": null,
      "metadata": {
        "colab": {
          "base_uri": "https://localhost:8080/"
        },
        "id": "W_kMyHfqGTQm",
        "outputId": "e35538bd-3149-4eec-ef41-8eebbceacb0f"
      },
      "outputs": [
        {
          "output_type": "stream",
          "name": "stdout",
          "text": [
            "19370\n",
            "('/content/faces/faces/101532586@N07/coarse_tilt_aligned_face.1262.9714006981_a39baceef9_o.jpg', 'coarse_tilt_aligned_face.1262.9714006981_a39baceef9_o.jpg')\n"
          ]
        }
      ],
      "source": [
        "# Generate list of picture paths\n",
        "file_list = []\n",
        "formats = [\"jpg\", \"png\"]\n",
        "\n",
        "for subdir in os.listdir(folder_path):\n",
        "    subpath = os.path.join(folder_path, subdir)\n",
        "\n",
        "    if os.path.isdir(subpath):\n",
        "\n",
        "        for f in os.listdir(subpath):\n",
        "      \n",
        "            filepath = os.path.join(subpath, f)\n",
        "            part = f.split(\".\")\n",
        "      \n",
        "            if os.path.isfile(filepath) and part[-1] in formats: # Is jpg or png\n",
        "                file_list.append((filepath, f))\n",
        "\n",
        "print(len(file_list))\n",
        "print(file_list[0])"
      ]
    },
    {
      "cell_type": "code",
      "execution_count": null,
      "metadata": {
        "colab": {
          "base_uri": "https://localhost:8080/"
        },
        "id": "hRTHtaGzW1UP",
        "outputId": "21601fb4-57d7-45f4-ffe2-6662a1a12b61"
      },
      "outputs": [
        {
          "output_type": "stream",
          "name": "stdout",
          "text": [
            "[====================]"
          ]
        }
      ],
      "source": [
        "# Sort images into different folders based on age\n",
        "im_len = len(file_list)\n",
        "for i, (filepath, filename) in enumerate(file_list):\n",
        "\n",
        "    # get the identifiers\n",
        "    parts = filename.split(\".\")\n",
        "    user_id = filepath.split(\"/\")[-2]\n",
        "    file_id = parts[-2] + \".\" + parts[-1]\n",
        "    face_id = int(parts[-3])\n",
        "\n",
        "    try:\n",
        "\n",
        "      # find class label\n",
        "      class_ = df[\n",
        "        (df[\"user_id\"] == user_id) & \n",
        "        (df[\"original_image\"] == file_id) & \n",
        "        (df[\"face_id\"] == face_id)\n",
        "      ][\"age\"].values[0]\n",
        "\n",
        "      new_path = os.path.join(folder_path, class_)\n",
        "      \n",
        "      if not os.path.exists(new_path):\n",
        "          os.makedirs(new_path)\n",
        "\n",
        "      # move file\n",
        "      new_path = os.path.join(new_path, filename)\n",
        "      shutil.move(filepath, new_path)\n",
        "    \n",
        "    except:\n",
        "      pass\n",
        "\n",
        "    # progress\n",
        "    prog = (20 * (i + 1)) // im_len\n",
        "    print(\"\\r[\" + \"=\"*prog + \"_\"*(20-prog) + \"]\", end=\"\")\\"
      ]
    },
    {
      "cell_type": "code",
      "execution_count": null,
      "metadata": {
        "id": "SBJAmz2_XGgX"
      },
      "outputs": [],
      "source": [
        "# delete unwanted files or empty folders\n",
        "for subdir in os.listdir(folder_path):\n",
        "    subpath = os.path.join(folder_path, subdir)\n",
        "\n",
        "    if os.path.isdir(subpath):\n",
        "        if subdir[0] != \"(\":\n",
        "            shutil.rmtree(subpath)\n",
        "    elif os.path.isfile(subpath):\n",
        "        os.remove(subdir)"
      ]
    },
    {
      "cell_type": "code",
      "execution_count": null,
      "metadata": {
        "id": "v-MGoFZEucjN"
      },
      "outputs": [],
      "source": [
        "# Set up new folders to match current convention\n",
        "os.mkdir(folder_path + \"/(00, 02)\")\n",
        "os.mkdir(folder_path + \"/(04, 06)\")\n",
        "os.mkdir(folder_path + \"/(08, 12)\")"
      ]
    },
    {
      "cell_type": "code",
      "execution_count": null,
      "metadata": {
        "id": "RzaAsRE2vmYr"
      },
      "outputs": [],
      "source": [
        "source = \"/content/faces/faces/(0, 2)/\"\n",
        "destination = \"/content/faces/faces/(00, 02)/\"\n",
        "\n",
        "allfiles = os.listdir(source)\n",
        "\n",
        "for f in allfiles:\n",
        "  shutil.move(source + f, destination + f)"
      ]
    },
    {
      "cell_type": "code",
      "execution_count": null,
      "metadata": {
        "id": "k_ugWAYDwl9d"
      },
      "outputs": [],
      "source": [
        "source = \"/content/faces/faces/(4, 6)/\"\n",
        "destination = \"/content/faces/faces/(04, 06)/\"\n",
        "\n",
        "allfiles = os.listdir(source)\n",
        "\n",
        "for f in allfiles:\n",
        "  shutil.move(source + f, destination + f)"
      ]
    },
    {
      "cell_type": "code",
      "execution_count": null,
      "metadata": {
        "id": "Wls8cqMowmLA"
      },
      "outputs": [],
      "source": [
        "source = \"/content/faces/faces/(8, 12)/\"\n",
        "destination = \"/content/faces/faces/(08, 12)/\"\n",
        "\n",
        "allfiles = os.listdir(source)\n",
        "\n",
        "for f in allfiles:\n",
        "  shutil.move(source + f, destination + f)"
      ]
    },
    {
      "cell_type": "code",
      "execution_count": null,
      "metadata": {
        "id": "g4kc3j6awrVh"
      },
      "outputs": [],
      "source": [
        "# Delete old folders\n",
        "os.rmdir(\"/content/faces/faces/(0, 2)/\")\n",
        "os.rmdir(\"/content/faces/faces/(4, 6)/\")\n",
        "os.rmdir(\"/content/faces/faces/(8, 12)/\")"
      ]
    },
    {
      "cell_type": "code",
      "execution_count": null,
      "metadata": {
        "id": "O0BS-B9SnXep"
      },
      "outputs": [],
      "source": [
        "import keras\n",
        "from keras.applications.vgg16 import VGG16"
      ]
    },
    {
      "cell_type": "markdown",
      "source": [
        "## **Split Up Folders into Training, Validation, and Testing Datasets**"
      ],
      "metadata": {
        "id": "J030gNiLV3N0"
      }
    },
    {
      "cell_type": "code",
      "execution_count": null,
      "metadata": {
        "id": "_9u32-RmkLTF"
      },
      "outputs": [],
      "source": [
        "!pip install split-folders\n",
        "clear_output()"
      ]
    },
    {
      "cell_type": "code",
      "execution_count": null,
      "metadata": {
        "colab": {
          "base_uri": "https://localhost:8080/"
        },
        "id": "cKKlfWFakkY2",
        "outputId": "e5d671a1-0911-475c-a2bf-764ab244c3fc"
      },
      "outputs": [
        {
          "output_type": "stream",
          "name": "stderr",
          "text": [
            "Copying files: 18551 files [00:11, 1580.41 files/s]\n"
          ]
        }
      ],
      "source": [
        "import splitfolders\n",
        "splitfolders.ratio(\"/content/faces/faces\", output=\"/content/output\", seed=1337, ratio=(.7, .15, .15), group_prefix=None)"
      ]
    },
    {
      "cell_type": "code",
      "execution_count": null,
      "metadata": {
        "id": "QPJ33_W2rRkL"
      },
      "outputs": [],
      "source": [
        "from tensorflow.keras.layers import Input, Lambda, Dense, Flatten, Dropout\n",
        "from tensorflow.keras.models import Model\n",
        "from tensorflow.keras.preprocessing import image\n",
        "from tensorflow.keras.preprocessing.image import ImageDataGenerator,load_img\n",
        "import numpy as np\n",
        "from glob import glob"
      ]
    },
    {
      "cell_type": "code",
      "execution_count": null,
      "metadata": {
        "id": "JkEJ07Homr6_"
      },
      "outputs": [],
      "source": [
        "IMAGE_SIZE = [224, 224]\n",
        "\n",
        "train_path = \"/content/output/train\"\n",
        "valid_path = \"/content/output/val\"\n",
        "test_path  = \"/content/output/test\""
      ]
    },
    {
      "cell_type": "markdown",
      "source": [
        "## **Train the Model Based on Modified VGGFace Architecture**"
      ],
      "metadata": {
        "id": "Lye5ZPdAWCLM"
      }
    },
    {
      "cell_type": "code",
      "execution_count": null,
      "metadata": {
        "id": "zXGMe6zDNnKI",
        "colab": {
          "base_uri": "https://localhost:8080/"
        },
        "outputId": "086fe99b-f6b2-4cd1-de3f-c9c342f90c0b"
      },
      "outputs": [
        {
          "output_type": "stream",
          "name": "stdout",
          "text": [
            "Downloading data from https://github.com/rcmalli/keras-vggface/releases/download/v2.0/rcmalli_vggface_tf_notop_vgg16.h5\n",
            "58916864/58909280 [==============================] - 5s 0us/step\n",
            "58925056/58909280 [==============================] - 5s 0us/step\n"
          ]
        }
      ],
      "source": [
        "# Need to replace 'from keras.engine.topology import get_source_inputs with' \n",
        "# 'from tensorflow.keras.utils import get_source_inputs' in models.py\n",
        "from keras_vggface.vggface import VGGFace\n",
        "\n",
        "vgg_features = VGGFace(include_top=False, input_shape=(224, 224, 3), pooling='avg')"
      ]
    },
    {
      "cell_type": "code",
      "execution_count": null,
      "metadata": {
        "colab": {
          "base_uri": "https://localhost:8080/"
        },
        "id": "99HbwF5iPbaD",
        "outputId": "f22bb682-ce47-4eb2-a8e4-ea6ab5ee29b8"
      },
      "outputs": [
        {
          "output_type": "stream",
          "name": "stdout",
          "text": [
            "Model: \"vggface_vgg16\"\n",
            "_________________________________________________________________\n",
            " Layer (type)                Output Shape              Param #   \n",
            "=================================================================\n",
            " input_1 (InputLayer)        [(None, 224, 224, 3)]     0         \n",
            "                                                                 \n",
            " conv1_1 (Conv2D)            (None, 224, 224, 64)      1792      \n",
            "                                                                 \n",
            " conv1_2 (Conv2D)            (None, 224, 224, 64)      36928     \n",
            "                                                                 \n",
            " pool1 (MaxPooling2D)        (None, 112, 112, 64)      0         \n",
            "                                                                 \n",
            " conv2_1 (Conv2D)            (None, 112, 112, 128)     73856     \n",
            "                                                                 \n",
            " conv2_2 (Conv2D)            (None, 112, 112, 128)     147584    \n",
            "                                                                 \n",
            " pool2 (MaxPooling2D)        (None, 56, 56, 128)       0         \n",
            "                                                                 \n",
            " conv3_1 (Conv2D)            (None, 56, 56, 256)       295168    \n",
            "                                                                 \n",
            " conv3_2 (Conv2D)            (None, 56, 56, 256)       590080    \n",
            "                                                                 \n",
            " conv3_3 (Conv2D)            (None, 56, 56, 256)       590080    \n",
            "                                                                 \n",
            " pool3 (MaxPooling2D)        (None, 28, 28, 256)       0         \n",
            "                                                                 \n",
            " conv4_1 (Conv2D)            (None, 28, 28, 512)       1180160   \n",
            "                                                                 \n",
            " conv4_2 (Conv2D)            (None, 28, 28, 512)       2359808   \n",
            "                                                                 \n",
            " conv4_3 (Conv2D)            (None, 28, 28, 512)       2359808   \n",
            "                                                                 \n",
            " pool4 (MaxPooling2D)        (None, 14, 14, 512)       0         \n",
            "                                                                 \n",
            " conv5_1 (Conv2D)            (None, 14, 14, 512)       2359808   \n",
            "                                                                 \n",
            " conv5_2 (Conv2D)            (None, 14, 14, 512)       2359808   \n",
            "                                                                 \n",
            " conv5_3 (Conv2D)            (None, 14, 14, 512)       2359808   \n",
            "                                                                 \n",
            " pool5 (MaxPooling2D)        (None, 7, 7, 512)         0         \n",
            "                                                                 \n",
            " global_average_pooling2d (G  (None, 512)              0         \n",
            " lobalAveragePooling2D)                                          \n",
            "                                                                 \n",
            "=================================================================\n",
            "Total params: 14,714,688\n",
            "Trainable params: 0\n",
            "Non-trainable params: 14,714,688\n",
            "_________________________________________________________________\n",
            "None\n"
          ]
        }
      ],
      "source": [
        "# Using feature extraction transfer learning, freeze base layer's parameters\n",
        "for layer in vgg_features.layers:\n",
        "    layer.trainable = False\n",
        "\n",
        "print(vgg_features.summary())"
      ]
    },
    {
      "cell_type": "code",
      "execution_count": null,
      "metadata": {
        "colab": {
          "base_uri": "https://localhost:8080/"
        },
        "id": "DNWuUsBVPDtg",
        "outputId": "16493f1e-946a-4f89-afe6-27c5b079f4c1"
      },
      "outputs": [
        {
          "output_type": "stream",
          "name": "stdout",
          "text": [
            "Model: \"model_1\"\n",
            "_________________________________________________________________\n",
            " Layer (type)                Output Shape              Param #   \n",
            "=================================================================\n",
            " input_1 (InputLayer)        [(None, 224, 224, 3)]     0         \n",
            "                                                                 \n",
            " conv1_1 (Conv2D)            (None, 224, 224, 64)      1792      \n",
            "                                                                 \n",
            " conv1_2 (Conv2D)            (None, 224, 224, 64)      36928     \n",
            "                                                                 \n",
            " pool1 (MaxPooling2D)        (None, 112, 112, 64)      0         \n",
            "                                                                 \n",
            " conv2_1 (Conv2D)            (None, 112, 112, 128)     73856     \n",
            "                                                                 \n",
            " conv2_2 (Conv2D)            (None, 112, 112, 128)     147584    \n",
            "                                                                 \n",
            " pool2 (MaxPooling2D)        (None, 56, 56, 128)       0         \n",
            "                                                                 \n",
            " conv3_1 (Conv2D)            (None, 56, 56, 256)       295168    \n",
            "                                                                 \n",
            " conv3_2 (Conv2D)            (None, 56, 56, 256)       590080    \n",
            "                                                                 \n",
            " conv3_3 (Conv2D)            (None, 56, 56, 256)       590080    \n",
            "                                                                 \n",
            " pool3 (MaxPooling2D)        (None, 28, 28, 256)       0         \n",
            "                                                                 \n",
            " conv4_1 (Conv2D)            (None, 28, 28, 512)       1180160   \n",
            "                                                                 \n",
            " conv4_2 (Conv2D)            (None, 28, 28, 512)       2359808   \n",
            "                                                                 \n",
            " conv4_3 (Conv2D)            (None, 28, 28, 512)       2359808   \n",
            "                                                                 \n",
            " pool4 (MaxPooling2D)        (None, 14, 14, 512)       0         \n",
            "                                                                 \n",
            " conv5_1 (Conv2D)            (None, 14, 14, 512)       2359808   \n",
            "                                                                 \n",
            " conv5_2 (Conv2D)            (None, 14, 14, 512)       2359808   \n",
            "                                                                 \n",
            " conv5_3 (Conv2D)            (None, 14, 14, 512)       2359808   \n",
            "                                                                 \n",
            " pool5 (MaxPooling2D)        (None, 7, 7, 512)         0         \n",
            "                                                                 \n",
            " flatten (Flatten)           (None, 25088)             0         \n",
            "                                                                 \n",
            " dense (Dense)               (None, 4096)              102764544 \n",
            "                                                                 \n",
            " dropout (Dropout)           (None, 4096)              0         \n",
            "                                                                 \n",
            " dense_1 (Dense)             (None, 4096)              16781312  \n",
            "                                                                 \n",
            " dropout_1 (Dropout)         (None, 4096)              0         \n",
            "                                                                 \n",
            " dense_2 (Dense)             (None, 8)                 32776     \n",
            "                                                                 \n",
            "=================================================================\n",
            "Total params: 134,293,320\n",
            "Trainable params: 119,578,632\n",
            "Non-trainable params: 14,714,688\n",
            "_________________________________________________________________\n",
            "None\n"
          ]
        }
      ],
      "source": [
        "# Number of output classes\n",
        "folders = glob('/content/output/train/*')\n",
        "\n",
        "# Add dense and dropout layers to perform the predictions\n",
        "test_model = Model(inputs=vgg_features.input, outputs=vgg_features.layers[-2].output)\n",
        "x = Flatten()(test_model.output)\n",
        "x = Dense(4096, activation='relu')(x)\n",
        "x = Dropout(0.6)(x)\n",
        "x = Dense(4096, activation='relu')(x)\n",
        "x = Dropout(0.6)(x)\n",
        "prediction = Dense(len(folders), activation='softmax')(x)\n",
        "model = Model(inputs=test_model.input, outputs=prediction)\n",
        "\n",
        "print(model.summary())"
      ]
    },
    {
      "cell_type": "code",
      "execution_count": null,
      "metadata": {
        "id": "TSK4ecrbSPp4"
      },
      "outputs": [],
      "source": [
        "# Set up cost and optimizer \n",
        "from tensorflow.keras.optimizers import Adam\n",
        "opt = Adam(learning_rate=0.00001)\n",
        "\n",
        "model.compile(\n",
        "  loss='categorical_crossentropy',\n",
        "  optimizer=opt,\n",
        "  metrics=['accuracy']\n",
        ")"
      ]
    },
    {
      "cell_type": "code",
      "execution_count": null,
      "metadata": {
        "id": "y84sPvlBSTSS"
      },
      "outputs": [],
      "source": [
        "# Use the Image Data Generator to import the images from the dataset\n",
        "from tensorflow.keras.preprocessing.image import ImageDataGenerator\n",
        "\n",
        "train_datagen = ImageDataGenerator(rescale = 1./255,\n",
        "                                   shear_range = 0.2,\n",
        "                                   zoom_range = 0.2,\n",
        "                                   horizontal_flip = True)\n",
        "\n",
        "test_datagen = ImageDataGenerator(rescale = 1./255)"
      ]
    },
    {
      "cell_type": "code",
      "execution_count": null,
      "metadata": {
        "colab": {
          "base_uri": "https://localhost:8080/"
        },
        "id": "R8C5FalPSU_-",
        "outputId": "947f2191-0dbb-43d5-cfc9-f5162e42a54d"
      },
      "outputs": [
        {
          "output_type": "stream",
          "name": "stdout",
          "text": [
            "Found 12983 images belonging to 8 classes.\n"
          ]
        }
      ],
      "source": [
        "training_set = train_datagen.flow_from_directory(train_path,\n",
        "                                                 target_size = (224, 224),\n",
        "                                                 batch_size = 32,\n",
        "                                                 class_mode = 'categorical')"
      ]
    },
    {
      "cell_type": "code",
      "execution_count": null,
      "metadata": {
        "colab": {
          "base_uri": "https://localhost:8080/"
        },
        "id": "A5giHhqFSVKW",
        "outputId": "249db7a5-c4c9-4416-f1dd-9a389e5b9828"
      },
      "outputs": [
        {
          "output_type": "stream",
          "name": "stdout",
          "text": [
            "Found 2788 images belonging to 8 classes.\n"
          ]
        }
      ],
      "source": [
        "test_set = test_datagen.flow_from_directory(test_path,\n",
        "                                            target_size = (224, 224),\n",
        "                                            batch_size = 1,\n",
        "                                            class_mode = 'categorical',\n",
        "                                            shuffle = False)"
      ]
    },
    {
      "cell_type": "code",
      "execution_count": null,
      "metadata": {
        "colab": {
          "base_uri": "https://localhost:8080/"
        },
        "id": "Wg8wXeRHSXp4",
        "outputId": "af287ef8-93e2-4f5c-a54f-e221fd225851"
      },
      "outputs": [
        {
          "output_type": "stream",
          "name": "stdout",
          "text": [
            "Found 2780 images belonging to 8 classes.\n"
          ]
        }
      ],
      "source": [
        "val_set = test_datagen.flow_from_directory(valid_path,\n",
        "                                            target_size = (224, 224),\n",
        "                                            batch_size = 32,\n",
        "                                            class_mode = 'categorical')"
      ]
    },
    {
      "cell_type": "code",
      "execution_count": null,
      "metadata": {
        "colab": {
          "base_uri": "https://localhost:8080/"
        },
        "id": "WFCks_aWSZTo",
        "outputId": "28fa7f48-ead7-4e47-b9d2-b20a38df99aa"
      },
      "outputs": [
        {
          "output_type": "stream",
          "name": "stdout",
          "text": [
            "Epoch 1/15\n",
            "406/406 [==============================] - 251s 589ms/step - loss: 1.6164 - accuracy: 0.4197 - val_loss: 1.2292 - val_accuracy: 0.5781\n",
            "Epoch 2/15\n",
            "406/406 [==============================] - 223s 550ms/step - loss: 1.1429 - accuracy: 0.5898 - val_loss: 0.9468 - val_accuracy: 0.6712\n",
            "Epoch 3/15\n",
            "406/406 [==============================] - 223s 549ms/step - loss: 0.9634 - accuracy: 0.6398 - val_loss: 0.8369 - val_accuracy: 0.7043\n",
            "Epoch 4/15\n",
            "406/406 [==============================] - 223s 549ms/step - loss: 0.8725 - accuracy: 0.6736 - val_loss: 0.7800 - val_accuracy: 0.7205\n",
            "Epoch 5/15\n",
            "406/406 [==============================] - 222s 548ms/step - loss: 0.8179 - accuracy: 0.6911 - val_loss: 0.7489 - val_accuracy: 0.7320\n",
            "Epoch 6/15\n",
            "406/406 [==============================] - 223s 549ms/step - loss: 0.7716 - accuracy: 0.7094 - val_loss: 0.7199 - val_accuracy: 0.7378\n",
            "Epoch 7/15\n",
            "406/406 [==============================] - 223s 549ms/step - loss: 0.7388 - accuracy: 0.7201 - val_loss: 0.6944 - val_accuracy: 0.7475\n",
            "Epoch 8/15\n",
            "406/406 [==============================] - 223s 549ms/step - loss: 0.7034 - accuracy: 0.7357 - val_loss: 0.6743 - val_accuracy: 0.7540\n",
            "Epoch 9/15\n",
            "406/406 [==============================] - 223s 550ms/step - loss: 0.6731 - accuracy: 0.7489 - val_loss: 0.6579 - val_accuracy: 0.7576\n",
            "Epoch 10/15\n",
            "406/406 [==============================] - 223s 548ms/step - loss: 0.6463 - accuracy: 0.7636 - val_loss: 0.6446 - val_accuracy: 0.7662\n",
            "Epoch 11/15\n",
            "406/406 [==============================] - 222s 548ms/step - loss: 0.6187 - accuracy: 0.7744 - val_loss: 0.6343 - val_accuracy: 0.7734\n",
            "Epoch 12/15\n",
            "406/406 [==============================] - 222s 547ms/step - loss: 0.5995 - accuracy: 0.7803 - val_loss: 0.6242 - val_accuracy: 0.7694\n",
            "Epoch 13/15\n",
            "406/406 [==============================] - 222s 546ms/step - loss: 0.5775 - accuracy: 0.7873 - val_loss: 0.6081 - val_accuracy: 0.7788\n",
            "Epoch 14/15\n",
            "406/406 [==============================] - 222s 547ms/step - loss: 0.5541 - accuracy: 0.7980 - val_loss: 0.6022 - val_accuracy: 0.7781\n",
            "Epoch 15/15\n",
            "406/406 [==============================] - 223s 548ms/step - loss: 0.5376 - accuracy: 0.8067 - val_loss: 0.5926 - val_accuracy: 0.7881\n"
          ]
        }
      ],
      "source": [
        "# fit the model\n",
        "# Run the cell. It will take some time to execute\n",
        "p = model.fit(\n",
        "  training_set,\n",
        "  validation_data=val_set,\n",
        "  epochs=15,\n",
        "  steps_per_epoch=len(training_set),\n",
        "  validation_steps=len(val_set),\n",
        ")"
      ]
    },
    {
      "cell_type": "code",
      "execution_count": null,
      "metadata": {
        "colab": {
          "base_uri": "https://localhost:8080/",
          "height": 265
        },
        "id": "yUj0U5_Qs8tB",
        "outputId": "370972c0-3de7-4444-edd0-5245f58d3e42"
      },
      "outputs": [
        {
          "output_type": "display_data",
          "data": {
            "image/png": "[encoded data removed]",
            "text/plain": [
              "<Figure size 432x288 with 1 Axes>"
            ]
          },
          "metadata": {
            "needs_background": "light"
          }
        }
      ],
      "source": [
        "plt.plot(p.history['accuracy'], label='accuracy')\n",
        "plt.plot(p.history['val_accuracy'], label='validation_accuracy')\n",
        "plt.legend()\n",
        "plt.show()"
      ]
    },
    {
      "cell_type": "code",
      "source": [
        "plt.plot(p.history['loss'], label='accuracy')\n",
        "plt.plot(p.history['val_loss'], label='validation_accuracy')\n",
        "plt.legend()\n",
        "plt.show()"
      ],
      "metadata": {
        "id": "bgOC5ngCbLCE",
        "colab": {
          "base_uri": "https://localhost:8080/",
          "height": 265
        },
        "outputId": "a45b507c-9529-4de6-ef2d-a59d0ee3d0a8"
      },
      "execution_count": null,
      "outputs": [
        {
          "output_type": "display_data",
          "data": {
            "image/png": "[encoded data removed]",
            "text/plain": [
              "<Figure size 432x288 with 1 Axes>"
            ]
          },
          "metadata": {
            "needs_background": "light"
          }
        }
      ]
    },
    {
      "cell_type": "markdown",
      "source": [
        "## **Model Performance Results**"
      ],
      "metadata": {
        "id": "j0ouhrVdWZ6t"
      }
    },
    {
      "cell_type": "code",
      "execution_count": null,
      "metadata": {
        "colab": {
          "base_uri": "https://localhost:8080/"
        },
        "id": "bTfavcce7MZD",
        "outputId": "5137d2b2-583b-4205-dde0-b1b5d2d8c37c"
      },
      "outputs": [
        {
          "output_type": "stream",
          "name": "stdout",
          "text": [
            "INFO:tensorflow:Assets written to: /content/model/assets\n"
          ]
        }
      ],
      "source": [
        "model.save('/content/model/')"
      ]
    },
    {
      "cell_type": "code",
      "execution_count": null,
      "metadata": {
        "id": "80dBWc1h1vev"
      },
      "outputs": [],
      "source": [
        "from tensorflow import keras\n",
        "test_model = keras.models.load_model('/content/model/')"
      ]
    },
    {
      "cell_type": "code",
      "execution_count": null,
      "metadata": {
        "id": "tfR16jmh-9-Z"
      },
      "outputs": [],
      "source": [
        "# Get list of pictures from test set\n",
        "filenames = test_set.filenames\n",
        "num_samples = len(filenames)"
      ]
    },
    {
      "cell_type": "code",
      "execution_count": null,
      "metadata": {
        "id": "ePPIj1Ga-tna"
      },
      "outputs": [],
      "source": [
        "# Get predictions for the test set\n",
        "y_pred = model.predict(test_set, steps=num_samples)\n",
        "pred = np.argmax(y_pred, axis=1)"
      ]
    },
    {
      "cell_type": "code",
      "execution_count": null,
      "metadata": {
        "id": "Bfse71JwDS2L"
      },
      "outputs": [],
      "source": [
        "# Convert one hot encoding to integer and calculate total accuracy + one off accuracy\n",
        "labels = []\n",
        "count = 0\n",
        "neighbour = 0\n",
        "for i in range(len(pred)):\n",
        "\n",
        "  labels.append(np.argmax(test_set[i][1][0]))\n",
        "\n",
        "  if test_set[i][1][0][pred[i]] == 1:\n",
        "    count = count + 1\n",
        "  elif test_set[i][1][0][max(0, pred[i] - 1)] == 1:\n",
        "    neighbour = neighbour + 1\n",
        "  elif test_set[i][1][0][min(7, pred[i] + 1)] == 1:\n",
        "    neighbour = neighbour + 1\n",
        "\n",
        "labels = np.asarray(labels)"
      ]
    },
    {
      "cell_type": "code",
      "execution_count": null,
      "metadata": {
        "colab": {
          "base_uri": "https://localhost:8080/"
        },
        "id": "lTUfCGg24hGt",
        "outputId": "c8a219b9-7c47-4fdf-f40b-69ffd871f2c5"
      },
      "outputs": [
        {
          "output_type": "stream",
          "name": "stdout",
          "text": [
            "2196\n",
            "0.787661406025825\n",
            "481\n",
            "0.9601865136298422\n"
          ]
        }
      ],
      "source": [
        "# Accuracy and one off accuracy\n",
        "print(count)\n",
        "print(count / len(pred))\n",
        "print(neighbour)\n",
        "print((count + neighbour) / len(pred))"
      ]
    },
    {
      "cell_type": "code",
      "execution_count": null,
      "metadata": {
        "id": "LEFmEyQtkUay"
      },
      "outputs": [],
      "source": [
        "# Confusion matrix\n",
        "confusion = tf.math.confusion_matrix(labels=labels, predictions=pred, num_classes=8).numpy()\n",
        "norm_confusion = np.around(confusion.astype('float') / confusion.sum(axis=1)[:, np.newaxis], decimals=2)"
      ]
    },
    {
      "cell_type": "code",
      "execution_count": null,
      "metadata": {
        "colab": {
          "base_uri": "https://localhost:8080/",
          "height": 296
        },
        "id": "QL-XCLIQlMrJ",
        "outputId": "fef399fe-ef92-4aef-9ff2-323b9fa80f43"
      },
      "outputs": [
        {
          "output_type": "execute_result",
          "data": {
            "text/plain": [
              "<sklearn.metrics._plot.confusion_matrix.ConfusionMatrixDisplay at 0x7f6a94a0c750>"
            ]
          },
          "metadata": {},
          "execution_count": 42
        },
        {
          "output_type": "display_data",
          "data": {
            "image/png": "[encoded data removed]",
            "text/plain": [
              "<Figure size 432x288 with 2 Axes>"
            ]
          },
          "metadata": {
            "needs_background": "light"
          }
        }
      ],
      "source": [
        "from sklearn.metrics import ConfusionMatrixDisplay\n",
        "ConfusionMatrixDisplay.from_predictions(labels, pred)"
      ]
    },
    {
      "cell_type": "code",
      "execution_count": null,
      "metadata": {
        "colab": {
          "base_uri": "https://localhost:8080/",
          "height": 599
        },
        "id": "zgju8HQCr5-Q",
        "outputId": "287dd8a7-20bd-4a7c-af92-9803b3f2067c"
      },
      "outputs": [
        {
          "output_type": "display_data",
          "data": {
            "image/png": "[encoded data removed]",
            "text/plain": [
              "<Figure size 576x576 with 2 Axes>"
            ]
          },
          "metadata": {
            "needs_background": "light"
          }
        }
      ],
      "source": [
        "# Normalized confusion matrix\n",
        "classes = [\"(0, 2)\", \"(4, 6)\", \"(8, 12)\", \"(15, 20)\", \"(25, 32)\", \"(38, 43)\", \"(48, 53)\", \"(60, 100)\"]\n",
        "con_mat_df = pd.DataFrame(norm_confusion,\n",
        "                     index = classes, \n",
        "                     columns = classes)\n",
        "\n",
        "figure = plt.figure(figsize=(8, 8))\n",
        "sns.heatmap(con_mat_df, annot=True, cmap=plt.cm.Blues)\n",
        "plt.tight_layout()\n",
        "plt.ylabel('True label')\n",
        "plt.xlabel('Predicted label')\n",
        "plt.show()"
      ]
    },
    {
      "cell_type": "code",
      "source": [
        "# Test the model and showcase some examples\n",
        "age_dict = {\n",
        "    0: \"(0, 2)\",\n",
        "    1: \"(4, 6)\",\n",
        "    2: \"(8, 12)\",\n",
        "    3: \"(15, 20)\",\n",
        "    4: \"(25, 32)\",\n",
        "    5: \"(38, 43)\",\n",
        "    6: \"(48, 53)\",\n",
        "    7: \"(60, 100)\"\n",
        "}\n",
        "\n",
        "nums = 2566\n",
        "\n",
        "img = test_set[nums][0]\n",
        "img = np.squeeze(img)\n",
        "print(age_dict[pred[nums]])\n",
        "print(age_dict[np.argmax(test_set[nums][1][0])])\n",
        "plt.imshow(img[:, :, :])"
      ],
      "metadata": {
        "colab": {
          "base_uri": "https://localhost:8080/",
          "height": 321
        },
        "id": "UrBDQmrvxlPB",
        "outputId": "0c0a85d0-f674-4588-df6b-dbc124d9bf7e"
      },
      "execution_count": null,
      "outputs": [
        {
          "output_type": "stream",
          "name": "stdout",
          "text": [
            "(48, 53)\n",
            "(48, 53)\n"
          ]
        },
        {
          "output_type": "execute_result",
          "data": {
            "text/plain": [
              "<matplotlib.image.AxesImage at 0x7f69792ce390>"
            ]
          },
          "metadata": {},
          "execution_count": 44
        },
        {
          "output_type": "display_data",
          "data": {
            "image/png": "[encoded data removed]",
            "text/plain": [
              "<Figure size 432x288 with 1 Axes>"
            ]
          },
          "metadata": {
            "needs_background": "light"
          }
        }
      ]
    },
    {
      "cell_type": "code",
      "execution_count": null,
      "metadata": {
        "colab": {
          "base_uri": "https://localhost:8080/",
          "height": 35
        },
        "id": "x3pYTDaykAg3",
        "outputId": "f84b55f8-742c-489f-e15e-48f850a51f87"
      },
      "outputs": [
        {
          "output_type": "execute_result",
          "data": {
            "application/vnd.google.colaboratory.intrinsic+json": {
              "type": "string"
            },
            "text/plain": [
              "'/content/drive/MyDrive/data/model_age_.zip'"
            ]
          },
          "metadata": {},
          "execution_count": 45
        }
      ],
      "source": [
        "# Export the model as a zip file\n",
        "shutil.make_archive(\"model_age_\", \"zip\", \"/content/model\")"
      ]
    }
  ],
  "metadata": {
    "accelerator": "GPU",
    "colab": {
      "name": "Age_Model",
      "provenance": [],
      "collapsed_sections": [],
      "authorship_tag": "ABX9TyORU3s5iXOvWUkxZmINX/pm",
      "include_colab_link": true
    },
    "kernelspec": {
      "display_name": "Python 3",
      "name": "python3"
    },
    "language_info": {
      "name": "python"
    }
  },
  "nbformat": 4,
  "nbformat_minor": 0
}